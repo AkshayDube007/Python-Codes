{
 "cells": [
  {
   "cell_type": "code",
   "execution_count": 4,
   "metadata": {},
   "outputs": [
    {
     "name": "stdout",
     "output_type": "stream",
     "text": [
      "\n",
      "\n",
      "* \n",
      "\n",
      "* * \n",
      "\n",
      "* * * \n",
      "\n",
      "* * * * \n",
      "\n"
     ]
    }
   ],
   "source": [
    "for i in range(5):\n",
    "    for j in range(i):\n",
    "        print(\"*\",end=\" \")\n",
    "    print(\"\\n\")\n",
    "    "
   ]
  },
  {
   "cell_type": "code",
   "execution_count": 10,
   "metadata": {},
   "outputs": [
    {
     "name": "stdout",
     "output_type": "stream",
     "text": [
      "1\n",
      "2\n",
      "3\n",
      "4\n",
      "5\n",
      "6\n",
      "hello\n"
     ]
    }
   ],
   "source": [
    "n = (1,2,3,4,5,6,\"hello\",7)\n",
    "for i in n:\n",
    "    if (i==7):\n",
    "        break\n",
    "    print(i)"
   ]
  },
  {
   "cell_type": "code",
   "execution_count": 11,
   "metadata": {},
   "outputs": [
    {
     "name": "stdout",
     "output_type": "stream",
     "text": [
      "1\n",
      "3\n",
      "4\n",
      "5\n",
      "6\n",
      "hello\n",
      "7\n"
     ]
    }
   ],
   "source": [
    "n = (1,2,3,4,5,6,\"hello\",7)\n",
    "for i in n:\n",
    "    if (i==2):\n",
    "        continue\n",
    "    print(i)"
   ]
  },
  {
   "cell_type": "code",
   "execution_count": 12,
   "metadata": {},
   "outputs": [
    {
     "data": {
      "text/plain": [
       "-2"
      ]
     },
     "execution_count": 12,
     "metadata": {},
     "output_type": "execute_result"
    }
   ],
   "source": [
    "int(-2.33)"
   ]
  },
  {
   "cell_type": "code",
   "execution_count": 18,
   "metadata": {},
   "outputs": [
    {
     "name": "stdout",
     "output_type": "stream",
     "text": [
      "in abc\n",
      "leaving abc\n",
      "in abc\n",
      "leaving abc\n",
      "in abc\n",
      "leaving abc\n",
      "end of code\n"
     ]
    }
   ],
   "source": [
    "def abc():\n",
    "    print(\"in abc\")\n",
    "    print(\"leaving abc\")\n",
    "\n",
    "for i in range(3):\n",
    "    abc()\n",
    "print(\"end of code\")"
   ]
  },
  {
   "cell_type": "code",
   "execution_count": 9,
   "metadata": {},
   "outputs": [
    {
     "name": "stdout",
     "output_type": "stream",
     "text": [
      "enter your marks 55\n"
     ]
    },
    {
     "data": {
      "text/plain": [
       "int"
      ]
     },
     "execution_count": 9,
     "metadata": {},
     "output_type": "execute_result"
    }
   ],
   "source": [
    "marks = int(input(\"enter your marks \"))\n",
    "\n",
    "type(marks)"
   ]
  },
  {
   "cell_type": "code",
   "execution_count": 10,
   "metadata": {},
   "outputs": [
    {
     "name": "stdout",
     "output_type": "stream",
     "text": [
      "B\n"
     ]
    }
   ],
   "source": [
    "if marks >= 85:\n",
    "    print(\"A\")\n",
    "elif marks >= 75 or marks <= 84:\n",
    "    print(\"B\")\n",
    "elif marks >= 65 or marks <= 74:\n",
    "    print(\"C\")\n",
    "elif marks >= 55 or marks <= 64:\n",
    "    print(\"D\")\n",
    "elif marks >= 45 or marks <= 54:\n",
    "    print(\"E\")\n",
    "else:\n",
    "    print(\"FAIL\")"
   ]
  },
  {
   "cell_type": "code",
   "execution_count": 13,
   "metadata": {},
   "outputs": [
    {
     "name": "stdout",
     "output_type": "stream",
     "text": [
      "88\n"
     ]
    }
   ],
   "source": [
    "import random\n",
    "\n",
    "gen_score = random.randint(1,250)\n",
    "\n",
    "print(gen_score)"
   ]
  },
  {
   "cell_type": "code",
   "execution_count": 24,
   "metadata": {},
   "outputs": [
    {
     "name": "stdout",
     "output_type": "stream",
     "text": [
      "enter the score between 1 to 250 - 97\n"
     ]
    }
   ],
   "source": [
    "user_score = int(input(\"enter the score between 1 to 250 - \" ))\n"
   ]
  },
  {
   "cell_type": "code",
   "execution_count": 21,
   "metadata": {},
   "outputs": [
    {
     "name": "stdout",
     "output_type": "stream",
     "text": [
      "go ahead\n"
     ]
    }
   ],
   "source": [
    "if user_score >=250 and user_score <= 1:\n",
    "    print(\"Reduce your expectation\")\n",
    "else:\n",
    "    print(\"go ahead\")"
   ]
  },
  {
   "cell_type": "code",
   "execution_count": 25,
   "metadata": {},
   "outputs": [],
   "source": [
    "check_range = gen_score - user_score \n",
    "\n",
    "check_range = abs(check_range)"
   ]
  },
  {
   "cell_type": "code",
   "execution_count": 27,
   "metadata": {},
   "outputs": [
    {
     "name": "stdout",
     "output_type": "stream",
     "text": [
      "you are a team India Fan\n"
     ]
    }
   ],
   "source": [
    "if check_range <= 10 and check_range >= 1:\n",
    "    print(\"you are a team India Fan\")\n",
    "else:\n",
    "    print(\"Your are not a team India Fan\")\n"
   ]
  },
  {
   "cell_type": "code",
   "execution_count": 31,
   "metadata": {},
   "outputs": [
    {
     "name": "stdout",
     "output_type": "stream",
     "text": [
      "its not a match\n"
     ]
    }
   ],
   "source": [
    "list = [1,2,1,4,6,7,5,9]\n",
    "list2 = [1,1,5]\n",
    "\n",
    "if list2 == list:\n",
    "    print(\"its a match\")\n",
    "else:\n",
    "    print(\"its not a match\")"
   ]
  },
  {
   "cell_type": "code",
   "execution_count": null,
   "metadata": {},
   "outputs": [],
   "source": []
  }
 ],
 "metadata": {
  "kernelspec": {
   "display_name": "Python 3",
   "language": "python",
   "name": "python3"
  },
  "language_info": {
   "codemirror_mode": {
    "name": "ipython",
    "version": 3
   },
   "file_extension": ".py",
   "mimetype": "text/x-python",
   "name": "python",
   "nbconvert_exporter": "python",
   "pygments_lexer": "ipython3",
   "version": "3.7.6"
  }
 },
 "nbformat": 4,
 "nbformat_minor": 4
}
