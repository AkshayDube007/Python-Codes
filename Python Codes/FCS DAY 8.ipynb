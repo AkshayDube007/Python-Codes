{
 "cells": [
  {
   "cell_type": "code",
   "execution_count": 1,
   "metadata": {},
   "outputs": [
    {
     "name": "stdout",
     "output_type": "stream",
     "text": [
      "n= 3\n",
      "n1= 4\n"
     ]
    }
   ],
   "source": [
    "class abc:\n",
    "    def xyz(self,n):\n",
    "        n1 = n+1\n",
    "        print(\"n=\" ,n)\n",
    "        print(\"n1=\" ,n1)\n",
    "o= abc()\n",
    "o.xyz(3)"
   ]
  },
  {
   "cell_type": "code",
   "execution_count": 2,
   "metadata": {},
   "outputs": [
    {
     "name": "stdout",
     "output_type": "stream",
     "text": [
      "n= 3\n",
      "self.n= 3\n",
      "n= 3\n",
      "self.n= 4\n"
     ]
    }
   ],
   "source": [
    "class abc:\n",
    "    def xyz(self,n):\n",
    "        self.n = n\n",
    "        print(\"n=\" ,n)\n",
    "        print(\"self.n=\" ,self.n)\n",
    "        self.n = n+1\n",
    "        print(\"n=\" ,n)\n",
    "        print(\"self.n=\" ,self.n)\n",
    "o = abc()\n",
    "o.xyz(3)"
   ]
  },
  {
   "cell_type": "code",
   "execution_count": 11,
   "metadata": {},
   "outputs": [
    {
     "name": "stdout",
     "output_type": "stream",
     "text": [
      "4\n",
      "5\n",
      "20\n",
      "hi\n"
     ]
    }
   ],
   "source": [
    "class xyz:\n",
    "    def __init__(self, n):\n",
    "        self.n1=n+1\n",
    "        print(n)\n",
    "        print(self.n1)\n",
    "        print(self.n1*n)\n",
    "    def mno(self):\n",
    "        print(\"hi\")\n",
    "s=xyz(4)\n",
    "s.mno()"
   ]
  },
  {
   "cell_type": "code",
   "execution_count": 12,
   "metadata": {},
   "outputs": [
    {
     "data": {
      "text/plain": [
       "7"
      ]
     },
     "execution_count": 12,
     "metadata": {},
     "output_type": "execute_result"
    }
   ],
   "source": [
    "class st:\n",
    "    def add(self,a,b):\n",
    "        self.a=a\n",
    "        self.b=b\n",
    "        return self.a+self.b\n",
    "s=st()\n",
    "s.add(4,3)"
   ]
  },
  {
   "cell_type": "code",
   "execution_count": 13,
   "metadata": {},
   "outputs": [
    {
     "name": "stdout",
     "output_type": "stream",
     "text": [
      "4\n",
      "3\n"
     ]
    }
   ],
   "source": [
    "class st:\n",
    "    def __init__(self,a,b):\n",
    "        self.a=a\n",
    "        self.b=b\n",
    "        \n",
    "s=st(4,3)\n",
    "print(s.a)\n",
    "print(s.b)"
   ]
  },
  {
   "cell_type": "code",
   "execution_count": 14,
   "metadata": {},
   "outputs": [
    {
     "name": "stdout",
     "output_type": "stream",
     "text": [
      "hello akshay\n",
      "hello dube\n"
     ]
    }
   ],
   "source": [
    "class st:\n",
    "    def __init__(self,n):\n",
    "        print(\"hello\",n)\n",
    "    def __del__(self):\n",
    "        print(\"object deleted\")\n",
    "\n",
    "s1=st(\"akshay\")\n",
    "s2=st(\"dube\")\n",
    "        "
   ]
  },
  {
   "cell_type": "code",
   "execution_count": 27,
   "metadata": {},
   "outputs": [
    {
     "name": "stdout",
     "output_type": "stream",
     "text": [
      "base class here\n",
      "base class here\n"
     ]
    }
   ],
   "source": [
    "#inheritance \n",
    "\n",
    "class abc:\n",
    "    def s1(self):\n",
    "        print(\"base class here\")\n",
    "class xyz(abc):\n",
    "    def s2(slef):\n",
    "        print(\"derived class is here\")\n",
    "o=xyz()\n",
    "o.s1()\n",
    "p=abc()\n",
    "p.s1()"
   ]
  },
  {
   "cell_type": "code",
   "execution_count": 29,
   "metadata": {},
   "outputs": [
    {
     "name": "stdout",
     "output_type": "stream",
     "text": [
      "num1: 7\n",
      "num2: 10\n",
      "17\n"
     ]
    }
   ],
   "source": [
    "#multiple inheritance\n",
    "\n",
    "class st1():\n",
    "    def num1(self):\n",
    "        self.n1 =7\n",
    "        print(\"num1:\" ,self.n1)\n",
    "class st2():\n",
    "    def num2(self):\n",
    "        self.n2=10\n",
    "        print(\"num2:\" ,self.n2)\n",
    "class st(st1,st2):\n",
    "    def add(self):\n",
    "        return self.n1+self.n2\n",
    "    \n",
    "s=st()\n",
    "s.num1()\n",
    "s.num2()\n",
    "print(s.add())"
   ]
  },
  {
   "cell_type": "code",
   "execution_count": 30,
   "metadata": {},
   "outputs": [
    {
     "name": "stdout",
     "output_type": "stream",
     "text": [
      "derived calss method called\n"
     ]
    }
   ],
   "source": [
    "class t():\n",
    "    def show(self):\n",
    "        print(\"base class is called\")\n",
    "class s(t):\n",
    "    def show(self):\n",
    "        print(\"derived calss method called\")\n",
    "v = s()\n",
    "v.show()"
   ]
  },
  {
   "cell_type": "code",
   "execution_count": 31,
   "metadata": {},
   "outputs": [
    {
     "name": "stdout",
     "output_type": "stream",
     "text": [
      "derived of derived class\n"
     ]
    }
   ],
   "source": [
    "class t():\n",
    "    def show(self):\n",
    "        print(\"base class is called\")\n",
    "class s(t):\n",
    "    def show(self):\n",
    "        print(\"derived calss method called\")\n",
    "class x(s):\n",
    "    def show(self):\n",
    "        print(\"derived of derived class\")\n",
    "v = x()\n",
    "v.show()"
   ]
  },
  {
   "cell_type": "code",
   "execution_count": 32,
   "metadata": {},
   "outputs": [
    {
     "name": "stdout",
     "output_type": "stream",
     "text": [
      "1\n",
      "2\n",
      "3\n"
     ]
    }
   ],
   "source": [
    "def abc():\n",
    "    yield 1 \n",
    "    yield 2\n",
    "    yield 3\n",
    "for i in abc():\n",
    "    print(i)"
   ]
  },
  {
   "cell_type": "code",
   "execution_count": 45,
   "metadata": {},
   "outputs": [
    {
     "name": "stdout",
     "output_type": "stream",
     "text": [
      "1\n"
     ]
    }
   ],
   "source": [
    "def abc():\n",
    "    yield 1 \n",
    "    yield 2\n",
    "    yield 3\n",
    "x=abc()\n",
    "print(x.__next__())\n"
   ]
  },
  {
   "cell_type": "code",
   "execution_count": 46,
   "metadata": {},
   "outputs": [
    {
     "name": "stdout",
     "output_type": "stream",
     "text": [
      "2\n"
     ]
    }
   ],
   "source": [
    "print(x.__next__())"
   ]
  },
  {
   "cell_type": "code",
   "execution_count": 47,
   "metadata": {},
   "outputs": [
    {
     "name": "stdout",
     "output_type": "stream",
     "text": [
      "3\n"
     ]
    }
   ],
   "source": [
    "print(x.__next__())"
   ]
  },
  {
   "cell_type": "code",
   "execution_count": 49,
   "metadata": {},
   "outputs": [
    {
     "name": "stdout",
     "output_type": "stream",
     "text": [
      "<generator object xyz at 0x000000B623A4C3C8>\n",
      "(1, 'lets')\n"
     ]
    }
   ],
   "source": [
    "#snippet 2\n",
    "def xyz(d):\n",
    "    for x in d.items():\n",
    "        yield x\n",
    "        \n",
    "dict = {1: \"lets\", 2: \"upgrade\"}\n",
    "l=xyz(dict)\n",
    "print(l)\n",
    "print(l.__next__())"
   ]
  },
  {
   "cell_type": "code",
   "execution_count": 50,
   "metadata": {},
   "outputs": [
    {
     "name": "stdout",
     "output_type": "stream",
     "text": [
      "3\n",
      "9\n"
     ]
    }
   ],
   "source": [
    "def foo():\n",
    "    n=3\n",
    "    yield n\n",
    "    n=n*n\n",
    "    yield n\n",
    "v=foo()\n",
    "for i in v:\n",
    "    print(i)"
   ]
  },
  {
   "cell_type": "code",
   "execution_count": 53,
   "metadata": {},
   "outputs": [
    {
     "name": "stdout",
     "output_type": "stream",
     "text": [
      "3\n"
     ]
    }
   ],
   "source": [
    "# nested function\n",
    "def outer():\n",
    "    x=3\n",
    "    def inner():\n",
    "        print(x)\n",
    "    inner()\n",
    "outer()"
   ]
  },
  {
   "cell_type": "code",
   "execution_count": 55,
   "metadata": {},
   "outputs": [
    {
     "name": "stdout",
     "output_type": "stream",
     "text": [
      "3\n"
     ]
    },
    {
     "ename": "AttributeError",
     "evalue": "'NoneType' object has no attribute 'inner'",
     "output_type": "error",
     "traceback": [
      "\u001b[1;31m---------------------------------------------------------------------------\u001b[0m",
      "\u001b[1;31mAttributeError\u001b[0m                            Traceback (most recent call last)",
      "\u001b[1;32m<ipython-input-55-48a79cc89630>\u001b[0m in \u001b[0;36m<module>\u001b[1;34m\u001b[0m\n\u001b[0;32m      5\u001b[0m     \u001b[0minner\u001b[0m\u001b[1;33m(\u001b[0m\u001b[1;33m)\u001b[0m\u001b[1;33m\u001b[0m\u001b[1;33m\u001b[0m\u001b[0m\n\u001b[0;32m      6\u001b[0m \u001b[0mo\u001b[0m\u001b[1;33m=\u001b[0m\u001b[0mouter\u001b[0m\u001b[1;33m(\u001b[0m\u001b[1;33m)\u001b[0m\u001b[1;33m\u001b[0m\u001b[1;33m\u001b[0m\u001b[0m\n\u001b[1;32m----> 7\u001b[1;33m \u001b[0mprint\u001b[0m\u001b[1;33m(\u001b[0m\u001b[0mo\u001b[0m\u001b[1;33m.\u001b[0m\u001b[0minner\u001b[0m\u001b[1;33m(\u001b[0m\u001b[1;33m)\u001b[0m\u001b[1;33m)\u001b[0m\u001b[1;33m\u001b[0m\u001b[1;33m\u001b[0m\u001b[0m\n\u001b[0m",
      "\u001b[1;31mAttributeError\u001b[0m: 'NoneType' object has no attribute 'inner'"
     ]
    }
   ],
   "source": [
    "def outer():\n",
    "    x=3\n",
    "    def inner():\n",
    "        print(x)\n",
    "    inner()\n",
    "o=outer()\n",
    "print(o.inner())"
   ]
  },
  {
   "cell_type": "code",
   "execution_count": 56,
   "metadata": {},
   "outputs": [
    {
     "name": "stdout",
     "output_type": "stream",
     "text": [
      "hello\n"
     ]
    }
   ],
   "source": [
    "def abc():\n",
    "    print(\"hello\")\n",
    "abc()"
   ]
  },
  {
   "cell_type": "code",
   "execution_count": 58,
   "metadata": {},
   "outputs": [],
   "source": [
    "g = abc"
   ]
  },
  {
   "cell_type": "code",
   "execution_count": 59,
   "metadata": {},
   "outputs": [
    {
     "data": {
      "text/plain": [
       "<function __main__.abc()>"
      ]
     },
     "execution_count": 59,
     "metadata": {},
     "output_type": "execute_result"
    }
   ],
   "source": [
    "g"
   ]
  },
  {
   "cell_type": "code",
   "execution_count": 60,
   "metadata": {},
   "outputs": [
    {
     "name": "stdout",
     "output_type": "stream",
     "text": [
      "hello\n"
     ]
    }
   ],
   "source": [
    "g()"
   ]
  },
  {
   "cell_type": "code",
   "execution_count": 66,
   "metadata": {},
   "outputs": [
    {
     "name": "stdout",
     "output_type": "stream",
     "text": [
      "<function outer.<locals>.inner at 0x000000B623A2D288>\n"
     ]
    }
   ],
   "source": [
    "def outer():\n",
    "    x = 3\n",
    "    def inner():\n",
    "        y = 4 \n",
    "        result = x+y\n",
    "        return result\n",
    "    return inner\n",
    "a = outer()\n",
    "print(a)"
   ]
  },
  {
   "cell_type": "code",
   "execution_count": 62,
   "metadata": {},
   "outputs": [
    {
     "data": {
      "text/plain": [
       "'inner'"
      ]
     },
     "execution_count": 62,
     "metadata": {},
     "output_type": "execute_result"
    }
   ],
   "source": [
    "a.__name__"
   ]
  },
  {
   "cell_type": "code",
   "execution_count": 63,
   "metadata": {},
   "outputs": [
    {
     "data": {
      "text/plain": [
       "7"
      ]
     },
     "execution_count": 63,
     "metadata": {},
     "output_type": "execute_result"
    }
   ],
   "source": [
    "a()"
   ]
  },
  {
   "cell_type": "code",
   "execution_count": 65,
   "metadata": {},
   "outputs": [
    {
     "data": {
      "text/plain": [
       "7"
      ]
     },
     "execution_count": 65,
     "metadata": {},
     "output_type": "execute_result"
    }
   ],
   "source": [
    "def outer():\n",
    "    x = 3\n",
    "    def inner():\n",
    "        y = 4 \n",
    "        result = x+y\n",
    "        return result\n",
    "    return inner\n",
    "a = outer()\n",
    "a()"
   ]
  },
  {
   "cell_type": "code",
   "execution_count": 67,
   "metadata": {},
   "outputs": [
    {
     "name": "stdout",
     "output_type": "stream",
     "text": [
      "hello\n"
     ]
    }
   ],
   "source": [
    "def outer():\n",
    "    msg = \"hello\"\n",
    "    def inner():\n",
    "        print(msg)\n",
    "    return inner\n",
    "a = outer()\n",
    "a()"
   ]
  },
  {
   "cell_type": "code",
   "execution_count": 72,
   "metadata": {},
   "outputs": [
    {
     "name": "stdout",
     "output_type": "stream",
     "text": [
      "function2\n",
      "function1\n"
     ]
    }
   ],
   "source": [
    "def function1():\n",
    "    print(\"function1\")\n",
    "def function2(a):\n",
    "    print(\"function2\")\n",
    "    a()\n",
    "function2(function1)"
   ]
  },
  {
   "cell_type": "code",
   "execution_count": 73,
   "metadata": {},
   "outputs": [
    {
     "name": "stdout",
     "output_type": "stream",
     "text": [
      "learning the decorators\n"
     ]
    }
   ],
   "source": [
    "def abc_lower():\n",
    "    print(\"learning the decorators\")\n",
    "abc_lower()"
   ]
  },
  {
   "cell_type": "code",
   "execution_count": 75,
   "metadata": {},
   "outputs": [
    {
     "name": "stdout",
     "output_type": "stream",
     "text": [
      "learning decorators\n",
      "LEARNING DECORATORS\n"
     ]
    }
   ],
   "source": [
    "def abc_upper(func):\n",
    "    def inner():\n",
    "        str1 = func()\n",
    "        return str1.upper()\n",
    "    return inner\n",
    "\n",
    "def abc_lower():\n",
    "    return \"learning decorators\"\n",
    "print (abc_lower())\n",
    "\n",
    "d = abc_upper(abc_lower)\n",
    "print(d())"
   ]
  },
  {
   "cell_type": "code",
   "execution_count": 76,
   "metadata": {},
   "outputs": [
    {
     "name": "stdout",
     "output_type": "stream",
     "text": [
      "LEARNING DECORATORS\n"
     ]
    }
   ],
   "source": [
    "def abc_upper(func):\n",
    "    def inner():\n",
    "        str1 = func()\n",
    "        return str1.upper()\n",
    "    return inner\n",
    "\n",
    "@abc_upper\n",
    "def abc_lower():\n",
    "    return \"learning decorators\"\n",
    "\n",
    "print(abc_lower())"
   ]
  },
  {
   "cell_type": "code",
   "execution_count": 79,
   "metadata": {},
   "outputs": [
    {
     "name": "stdout",
     "output_type": "stream",
     "text": [
      "Enter your number having only zeros and ones:11\n",
      "NO\n"
     ]
    }
   ],
   "source": [
    "str = input(\"Enter your number having only zeros and ones:\" )\n",
    "\n",
    "def possibility(str):\n",
    "    a = 0\n",
    "    b = 0\n",
    "    for i in range(0, len(str)):\n",
    "        c = str[i];\n",
    "        if (c == '0'):\n",
    "            a = a+1\n",
    "        else:\n",
    "            b = b+1\n",
    "    return (a ==1 or b == 1)\n",
    "if(possibility(str)):\n",
    "    print(\"YES\")\n",
    "else:\n",
    "    print(\"NO\")    "
   ]
  },
  {
   "cell_type": "code",
   "execution_count": null,
   "metadata": {},
   "outputs": [],
   "source": []
  },
  {
   "cell_type": "code",
   "execution_count": null,
   "metadata": {},
   "outputs": [],
   "source": []
  },
  {
   "cell_type": "code",
   "execution_count": null,
   "metadata": {},
   "outputs": [],
   "source": []
  },
  {
   "cell_type": "code",
   "execution_count": null,
   "metadata": {},
   "outputs": [],
   "source": []
  },
  {
   "cell_type": "code",
   "execution_count": null,
   "metadata": {},
   "outputs": [],
   "source": []
  },
  {
   "cell_type": "code",
   "execution_count": null,
   "metadata": {},
   "outputs": [],
   "source": []
  },
  {
   "cell_type": "code",
   "execution_count": null,
   "metadata": {},
   "outputs": [],
   "source": []
  },
  {
   "cell_type": "code",
   "execution_count": null,
   "metadata": {},
   "outputs": [],
   "source": []
  },
  {
   "cell_type": "code",
   "execution_count": null,
   "metadata": {},
   "outputs": [],
   "source": []
  },
  {
   "cell_type": "code",
   "execution_count": null,
   "metadata": {},
   "outputs": [],
   "source": []
  }
 ],
 "metadata": {
  "kernelspec": {
   "display_name": "Python 3",
   "language": "python",
   "name": "python3"
  },
  "language_info": {
   "codemirror_mode": {
    "name": "ipython",
    "version": 3
   },
   "file_extension": ".py",
   "mimetype": "text/x-python",
   "name": "python",
   "nbconvert_exporter": "python",
   "pygments_lexer": "ipython3",
   "version": "3.7.6"
  }
 },
 "nbformat": 4,
 "nbformat_minor": 4
}
