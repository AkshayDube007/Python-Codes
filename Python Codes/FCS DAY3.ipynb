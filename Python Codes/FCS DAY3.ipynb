{
 "cells": [
  {
   "cell_type": "code",
   "execution_count": 1,
   "metadata": {},
   "outputs": [
    {
     "name": "stdout",
     "output_type": "stream",
     "text": [
      "b is equal to 20\n"
     ]
    }
   ],
   "source": [
    "a=10\n",
    "if a!=10:\n",
    "    print(\"a is equal to 10\")\n",
    "elif a!=20:\n",
    "    print(\"b is equal to 20\")\n",
    "elif a!=30:\n",
    "    print(\"c is equal to 30\")\n",
    "elif a!=40:\n",
    "    print(\"d is  equal to 40\")\n",
    "elif a!=50:\n",
    "    print(\"e is equal to 50\")\n",
    "else:\n",
    "    print(\"FAIL\")"
   ]
  },
  {
   "cell_type": "code",
   "execution_count": 30,
   "metadata": {},
   "outputs": [
    {
     "name": "stdout",
     "output_type": "stream",
     "text": [
      "[42]\n",
      "Reduce your expectation for 20-20 cricket\n"
     ]
    }
   ],
   "source": [
    "import random\n",
    "def Rand(start, end, score): \n",
    "    res = [] \n",
    "  \n",
    "    for j in range(score): \n",
    "        res.append(random.randint(start, end))\n",
    "        \n",
    "        return res \n",
    "score = 250\n",
    "start = 1\n",
    "end = 250\n",
    "print(Rand(start, end, score)) \n",
    "\n",
    "if score<=1 or score>=250:\n",
    "    print(\"Reduce your expectation for 20-20 cricket\")\n",
    "elif Rand>=200:\n",
    "        print(\"Close By, you are true Indian Fan!\")\n",
    "else:\n",
    "    print(\"You don't watch that much!\")"
   ]
  },
  {
   "cell_type": "code",
   "execution_count": null,
   "metadata": {},
   "outputs": [],
   "source": []
  }
 ],
 "metadata": {
  "kernelspec": {
   "display_name": "Python 3",
   "language": "python",
   "name": "python3"
  },
  "language_info": {
   "codemirror_mode": {
    "name": "ipython",
    "version": 3
   },
   "file_extension": ".py",
   "mimetype": "text/x-python",
   "name": "python",
   "nbconvert_exporter": "python",
   "pygments_lexer": "ipython3",
   "version": "3.7.6"
  }
 },
 "nbformat": 4,
 "nbformat_minor": 4
}
