{
 "cells": [
  {
   "cell_type": "code",
   "execution_count": 1,
   "metadata": {},
   "outputs": [
    {
     "name": "stdout",
     "output_type": "stream",
     "text": [
      "hello world\n"
     ]
    }
   ],
   "source": [
    "print(\"hello world\")"
   ]
  },
  {
   "cell_type": "code",
   "execution_count": 11,
   "metadata": {},
   "outputs": [
    {
     "name": "stdout",
     "output_type": "stream",
     "text": [
      "[1, 20, 'hi', 20.5, 30.5]\n"
     ]
    }
   ],
   "source": [
    "list1 = [1, 20, \"hi\", 20.5, 30.5]\n",
    "\n",
    "print(list1)\n",
    "\n"
   ]
  },
  {
   "cell_type": "code",
   "execution_count": 13,
   "metadata": {},
   "outputs": [
    {
     "name": "stdout",
     "output_type": "stream",
     "text": [
      "[1, 20, 'hi', 20.5, 30.5, 29]\n"
     ]
    }
   ],
   "source": [
    "list = [1, 20, \"hi\", 20.5, 30.5]\n",
    "list.append(29)\n",
    "print(list)"
   ]
  },
  {
   "cell_type": "code",
   "execution_count": 14,
   "metadata": {},
   "outputs": [
    {
     "name": "stdout",
     "output_type": "stream",
     "text": [
      "[1, 20, 'hi', 99, 20.5, 30.5, 29]\n"
     ]
    }
   ],
   "source": [
    "list1 = [1, 20, \"hi\", 20.5, 30.5]\n",
    "list.insert(3,99)\n",
    "print(list)"
   ]
  },
  {
   "cell_type": "code",
   "execution_count": 16,
   "metadata": {},
   "outputs": [
    {
     "name": "stdout",
     "output_type": "stream",
     "text": [
      "[1, 20, 'hi', 20.5, 30.5, 1, 20, 'hi', 99, 20.5, 30.5, 29]\n",
      "[1, 20, 'hi', 99, 20.5, 30.5, 29, 1, 20, 'hi', 20.5, 30.5, 1, 20, 'hi', 99, 20.5, 30.5, 29]\n"
     ]
    }
   ],
   "source": [
    "list2 = [1, 20, \"hi\", 20.5, 30.5]\n",
    "list3 = [1, 20, 'hi', 99, 20.5, 30.5, 29]\n",
    "list2.extend(list3)\n",
    "list3.extend(list2)\n",
    "print(list2)\n",
    "print(list3)"
   ]
  },
  {
   "cell_type": "code",
   "execution_count": 18,
   "metadata": {},
   "outputs": [
    {
     "name": "stdout",
     "output_type": "stream",
     "text": [
      "19\n"
     ]
    }
   ],
   "source": [
    "list = (1, 2, 3, 5, 8)\n",
    "print(sum(list))"
   ]
  },
  {
   "cell_type": "code",
   "execution_count": 19,
   "metadata": {},
   "outputs": [
    {
     "name": "stdout",
     "output_type": "stream",
     "text": [
      "2\n"
     ]
    }
   ],
   "source": [
    "list = (1, 1, 2, 3, 3, 6, 6)\n",
    "print(list.count(1))"
   ]
  },
  {
   "cell_type": "code",
   "execution_count": 20,
   "metadata": {},
   "outputs": [
    {
     "name": "stdout",
     "output_type": "stream",
     "text": [
      "7\n"
     ]
    }
   ],
   "source": [
    "list = (1, 1, 2, 3, 3, 6, 6)\n",
    "print(len(list))"
   ]
  },
  {
   "cell_type": "code",
   "execution_count": 22,
   "metadata": {},
   "outputs": [
    {
     "name": "stdout",
     "output_type": "stream",
     "text": [
      "2\n"
     ]
    }
   ],
   "source": [
    "list = (1, 1, 2, 3, 3, 6, 6)\n",
    "list.index(2)\n",
    "print(list.index(2))"
   ]
  },
  {
   "cell_type": "code",
   "execution_count": 25,
   "metadata": {},
   "outputs": [
    {
     "name": "stdout",
     "output_type": "stream",
     "text": [
      "3\n"
     ]
    }
   ],
   "source": [
    "list = (1, 1, 2, 3, 3, 6, 6)\n",
    "list.index(2)\n",
    "print(list.index(3,3))"
   ]
  },
  {
   "cell_type": "code",
   "execution_count": 29,
   "metadata": {},
   "outputs": [
    {
     "name": "stdout",
     "output_type": "stream",
     "text": [
      "1.5\n",
      "34\n"
     ]
    }
   ],
   "source": [
    "list1 = [10, 2.7, 11.5, 22, 26, 34, 20, 1.5] \n",
    "print(min(list1))\n",
    "print(max(list1))"
   ]
  },
  {
   "cell_type": "code",
   "execution_count": 32,
   "metadata": {},
   "outputs": [
    {
     "name": "stdout",
     "output_type": "stream",
     "text": [
      "[10, 2.7, 11.5, 22, 26, 34, 20, 1.5]\n"
     ]
    }
   ],
   "source": [
    "list = [10, 2.7, 11.5, 22, 26, 34, 20, 1.5] \n",
    "sorted(list)\n",
    "list.sort(reverse = True)\n",
    "print(list1)"
   ]
  },
  {
   "cell_type": "code",
   "execution_count": 34,
   "metadata": {},
   "outputs": [
    {
     "name": "stdout",
     "output_type": "stream",
     "text": [
      "22\n"
     ]
    }
   ],
   "source": [
    "list = [10, 2.7, 11.5, 22, 26, 34, 20, 1.5] \n",
    "print(list.pop(3))"
   ]
  },
  {
   "cell_type": "code",
   "execution_count": 35,
   "metadata": {},
   "outputs": [
    {
     "name": "stdout",
     "output_type": "stream",
     "text": [
      "[10, 2.7, 11.5, 26, 34, 20, 1.5]\n"
     ]
    }
   ],
   "source": [
    "list = [10, 2.7, 11.5, 22, 26, 34, 20, 1.5] \n",
    "del list[3]\n",
    "print(list)"
   ]
  },
  {
   "cell_type": "code",
   "execution_count": 37,
   "metadata": {},
   "outputs": [
    {
     "name": "stdout",
     "output_type": "stream",
     "text": [
      "[10, 2.7, 11.5, 22, 34, 20, 1.5]\n"
     ]
    }
   ],
   "source": [
    "list = [10, 2.7, 11.5, 22, 26, 34, 20, 1.5] \n",
    "list.remove(26)\n",
    "print(list)"
   ]
  },
  {
   "cell_type": "code",
   "execution_count": 42,
   "metadata": {},
   "outputs": [
    {
     "name": "stdout",
     "output_type": "stream",
     "text": [
      "[34, 26, 22, 20, 11.5, 10, 2.7, 1.5]\n"
     ]
    }
   ],
   "source": [
    "list = [10, 2.7, 11.5, 22, 26, 34, 20, 1.5] \n",
    "list.sort(reverse=True)\n",
    "print(list)"
   ]
  },
  {
   "cell_type": "code",
   "execution_count": 43,
   "metadata": {},
   "outputs": [
    {
     "data": {
      "text/plain": [
       "dict"
      ]
     },
     "execution_count": 43,
     "metadata": {},
     "output_type": "execute_result"
    }
   ],
   "source": [
    "sport = {\"Bat\":\"Cricket\", \"ShuttleCock\":\"BadMinton\", \"Parachute\":\"SkyDiving\"}\n",
    "type(sport)"
   ]
  },
  {
   "cell_type": "code",
   "execution_count": 44,
   "metadata": {},
   "outputs": [
    {
     "data": {
      "text/plain": [
       "'Cricket'"
      ]
     },
     "execution_count": 44,
     "metadata": {},
     "output_type": "execute_result"
    }
   ],
   "source": [
    "sport.get(\"Bat\")"
   ]
  },
  {
   "cell_type": "code",
   "execution_count": 46,
   "metadata": {},
   "outputs": [
    {
     "name": "stdout",
     "output_type": "stream",
     "text": [
      "{'Bat': 'Cricket', 'ShuttleCock': 'BadMinton', 'Parachute': 'SkyDiving'}\n"
     ]
    }
   ],
   "source": [
    "sport = {\"Bat\":\"Cricket\", \"ShuttleCock\":\"BadMinton\", \"Parachute\":\"SkyDiving\"}\n",
    "print(str(sport))"
   ]
  },
  {
   "cell_type": "code",
   "execution_count": 50,
   "metadata": {},
   "outputs": [
    {
     "name": "stdout",
     "output_type": "stream",
     "text": [
      "dict_items([('Bat', 'Cricket'), ('ShuttleCock', 'BadMinton'), ('Parachute', 'SkyDiving')])\n"
     ]
    }
   ],
   "source": [
    "sport = {\"Bat\":\"Cricket\", \"ShuttleCock\":\"BadMinton\", \"Parachute\":\"SkyDiving\"}\n",
    "print(sport.items())"
   ]
  },
  {
   "cell_type": "raw",
   "metadata": {},
   "source": []
  },
  {
   "cell_type": "code",
   "execution_count": 53,
   "metadata": {},
   "outputs": [
    {
     "name": "stdout",
     "output_type": "stream",
     "text": [
      "{'Bat': 'Cricket', 'ShuttleCock': 'BadMinton', 'Parachute': 'SkyDiving'}\n"
     ]
    }
   ],
   "source": [
    "sport = {\"Bat\":\"Cricket\", \"ShuttleCock\":\"BadMinton\", \"Parachute\":\"SkyDiving\"}\n",
    "sport2 = {}\n",
    "sport2 = sport.copy()\n",
    "print(sport2)"
   ]
  },
  {
   "cell_type": "code",
   "execution_count": 54,
   "metadata": {},
   "outputs": [
    {
     "name": "stdout",
     "output_type": "stream",
     "text": [
      "None\n"
     ]
    }
   ],
   "source": [
    "sport = {\"Bat\":\"Cricket\", \"ShuttleCock\":\"BadMinton\", \"Parachute\":\"SkyDiving\"}\n",
    "sport2 ={}\n",
    "sport2 = sport.clear()\n",
    "print(sport2)"
   ]
  },
  {
   "cell_type": "code",
   "execution_count": 57,
   "metadata": {},
   "outputs": [
    {
     "name": "stdout",
     "output_type": "stream",
     "text": [
      "{'Bat': 5, 'ShuttleCock': 5, 'id': 5}\n"
     ]
    }
   ],
   "source": [
    "sport3 = {\"Bat\":\"Cricket\", \"ShuttleCock\":\"BadMinton\"}\n",
    "sport4 = {\"id\":\"22\"}\n",
    "sequ = (\"Bat\", \"ShuttleCock\", \"id\")\n",
    "dict = dict.fromkeys(sequ, 5)\n",
    "print(str(dict))"
   ]
  },
  {
   "cell_type": "code",
   "execution_count": 59,
   "metadata": {},
   "outputs": [
    {
     "name": "stdout",
     "output_type": "stream",
     "text": [
      "no id\n",
      "{'Bat': 'Cricket', 'ShuttleCock': 'BadMinton', 'id': 'no id'}\n"
     ]
    }
   ],
   "source": [
    "sport3 = {\"Bat\":\"Cricket\", \"ShuttleCock\":\"BadMinton\"}\n",
    "print(sport3.setdefault(\"id\", \"no id\"))\n",
    "print(str(sport3))"
   ]
  },
  {
   "cell_type": "code",
   "execution_count": 60,
   "metadata": {},
   "outputs": [
    {
     "name": "stdout",
     "output_type": "stream",
     "text": [
      "dict_items([('Bat', 'Cricket'), ('ShuttleCock', 'BadMinton')])\n"
     ]
    }
   ],
   "source": [
    "sport3 = {\"Bat\":\"Cricket\", \"ShuttleCock\":\"BadMinton\"}\n",
    "print(sport3.items())"
   ]
  },
  {
   "cell_type": "code",
   "execution_count": 61,
   "metadata": {},
   "outputs": [
    {
     "name": "stdout",
     "output_type": "stream",
     "text": [
      "{'Bat': 'Cricket', 'ShuttleCock': 'BadMinton'}\n"
     ]
    }
   ],
   "source": [
    "sport3 = {\"Bat\":\"Cricket\", \"ShuttleCock\":\"BadMinton\"}\n",
    "print(str(sport3))"
   ]
  },
  {
   "cell_type": "code",
   "execution_count": 66,
   "metadata": {},
   "outputs": [
    {
     "name": "stdout",
     "output_type": "stream",
     "text": [
      "<class 'list'>\n"
     ]
    }
   ],
   "source": [
    "sport3 = {\"Bat\":\"Cricket\", \"ShuttleCock\":\"BadMinton\"}\n",
    "le = [1, 2, 4, 7]\n",
    "print(type(le))"
   ]
  },
  {
   "cell_type": "code",
   "execution_count": 67,
   "metadata": {},
   "outputs": [
    {
     "name": "stdout",
     "output_type": "stream",
     "text": [
      "dict_items([('Bat', 'Cricket'), ('ShuttleCock', 'BadMinton')])\n"
     ]
    }
   ],
   "source": [
    "sport3 = {\"Bat\":\"Cricket\", \"ShuttleCock\":\"BadMinton\"}\n",
    "sport4 ={}\n",
    "sport4 = sport3.copy()\n",
    "print(sport4.items())"
   ]
  },
  {
   "cell_type": "code",
   "execution_count": 68,
   "metadata": {},
   "outputs": [
    {
     "name": "stdout",
     "output_type": "stream",
     "text": [
      "dict_items([])\n"
     ]
    }
   ],
   "source": [
    "sport3 = {\"Bat\":\"Cricket\", \"ShuttleCock\":\"BadMinton\"}\n",
    "sport3.clear()\n",
    "print(sport3.items())"
   ]
  },
  {
   "cell_type": "code",
   "execution_count": 69,
   "metadata": {},
   "outputs": [
    {
     "name": "stdout",
     "output_type": "stream",
     "text": [
      "dict_values(['Cricket', 'BadMinton'])\n"
     ]
    }
   ],
   "source": [
    "sport3 = {\"Bat\":\"Cricket\", \"ShuttleCock\":\"BadMinton\"}\n",
    "print(sport3.values())"
   ]
  },
  {
   "cell_type": "code",
   "execution_count": 72,
   "metadata": {},
   "outputs": [
    {
     "ename": "AttributeError",
     "evalue": "'dict' object has no attribute 'end'",
     "output_type": "error",
     "traceback": [
      "\u001b[1;31m---------------------------------------------------------------------------\u001b[0m",
      "\u001b[1;31mAttributeError\u001b[0m                            Traceback (most recent call last)",
      "\u001b[1;32m<ipython-input-72-4fe5297c3e03>\u001b[0m in \u001b[0;36m<module>\u001b[1;34m\u001b[0m\n\u001b[0;32m      1\u001b[0m \u001b[0msport3\u001b[0m \u001b[1;33m=\u001b[0m \u001b[1;33m{\u001b[0m\u001b[1;34m\"Bat\"\u001b[0m\u001b[1;33m:\u001b[0m\u001b[1;34m\"Cricket\"\u001b[0m\u001b[1;33m,\u001b[0m \u001b[1;34m\"ShuttleCock\"\u001b[0m\u001b[1;33m:\u001b[0m\u001b[1;34m\"BadMinton\"\u001b[0m\u001b[1;33m}\u001b[0m\u001b[1;33m\u001b[0m\u001b[1;33m\u001b[0m\u001b[0m\n\u001b[1;32m----> 2\u001b[1;33m \u001b[0mprint\u001b[0m\u001b[1;33m(\u001b[0m\u001b[0msport3\u001b[0m\u001b[1;33m.\u001b[0m\u001b[0mend\u001b[0m\u001b[1;33m)\u001b[0m\u001b[1;33m\u001b[0m\u001b[1;33m\u001b[0m\u001b[0m\n\u001b[0m",
      "\u001b[1;31mAttributeError\u001b[0m: 'dict' object has no attribute 'end'"
     ]
    }
   ],
   "source": [
    "sport3 = {\"Bat\":\"Cricket\", \"ShuttleCock\":\"BadMinton\"}\n"
   ]
  },
  {
   "cell_type": "code",
   "execution_count": 79,
   "metadata": {},
   "outputs": [
    {
     "name": "stdout",
     "output_type": "stream",
     "text": [
      "{'b', 'c', 'a'}\n"
     ]
    }
   ],
   "source": [
    "set1 = set([\"a\", \"b\", \"c\"])\n",
    "print(set1)"
   ]
  },
  {
   "cell_type": "code",
   "execution_count": 81,
   "metadata": {},
   "outputs": [
    {
     "name": "stdout",
     "output_type": "stream",
     "text": [
      "{'b', 'c', 'a', 'd'}\n"
     ]
    }
   ],
   "source": [
    "set1 = set([\"a\", \"b\", \"c\"])\n",
    "set1.add(\"d\")\n",
    "print(set1)"
   ]
  },
  {
   "cell_type": "code",
   "execution_count": 82,
   "metadata": {},
   "outputs": [
    {
     "name": "stdout",
     "output_type": "stream",
     "text": [
      "{1, 'b', 'c', 'a'}\n",
      "{1, 2, 'b', 'c', 'a'}\n",
      "{1, 2, 3, 'b', 'c', 'a'}\n",
      "{1, 2, 3, 4, 'b', 'c', 'a'}\n",
      "{1, 2, 3, 4, 5, 'b', 'c', 'a'}\n"
     ]
    }
   ],
   "source": [
    "set1 = set([\"a\", \"b\", \"c\"])\n",
    "for i in range(1, 6):\n",
    "    set1.add(i)\n",
    "    print(set1)\n",
    "    "
   ]
  },
  {
   "cell_type": "code",
   "execution_count": 83,
   "metadata": {},
   "outputs": [
    {
     "name": "stdout",
     "output_type": "stream",
     "text": [
      "{'b', '2', '3', '1', 'c', 'a'}\n"
     ]
    }
   ],
   "source": [
    "set1 = set([\"a\", \"b\", \"c\"])\n",
    "set2 = set([\"1\", \"2\", \"3\"])\n",
    "set3 = set1.union(set2)\n",
    "print(set3)"
   ]
  },
  {
   "cell_type": "code",
   "execution_count": 84,
   "metadata": {},
   "outputs": [
    {
     "name": "stdout",
     "output_type": "stream",
     "text": [
      "{'2', '3'}\n"
     ]
    }
   ],
   "source": [
    "set1 = set([\"1\", \"2\", \"3\"])\n",
    "set2 = set([\"2\", \"3\", \"4\"])\n",
    "set3 = set1.intersection(set2)\n",
    "print(set3)"
   ]
  },
  {
   "cell_type": "code",
   "execution_count": 85,
   "metadata": {},
   "outputs": [
    {
     "name": "stdout",
     "output_type": "stream",
     "text": [
      "{'1'}\n"
     ]
    }
   ],
   "source": [
    "set1 = set([\"1\", \"2\", \"3\"])\n",
    "set2 = set([\"2\", \"3\", \"4\"])\n",
    "set3 = set1.difference(set2)\n",
    "print(set3)"
   ]
  },
  {
   "cell_type": "code",
   "execution_count": 87,
   "metadata": {},
   "outputs": [
    {
     "name": "stdout",
     "output_type": "stream",
     "text": [
      "None\n"
     ]
    }
   ],
   "source": [
    "set1 = set([\"1\", \"2\", \"3\"])\n",
    "set2 = set1.clear()\n",
    "print(set2)"
   ]
  },
  {
   "cell_type": "code",
   "execution_count": null,
   "metadata": {},
   "outputs": [],
   "source": []
  }
 ],
 "metadata": {
  "kernelspec": {
   "display_name": "Python 3",
   "language": "python",
   "name": "python3"
  },
  "language_info": {
   "codemirror_mode": {
    "name": "ipython",
    "version": 3
   },
   "file_extension": ".py",
   "mimetype": "text/x-python",
   "name": "python",
   "nbconvert_exporter": "python",
   "pygments_lexer": "ipython3",
   "version": "3.7.6"
  }
 },
 "nbformat": 4,
 "nbformat_minor": 4
}
