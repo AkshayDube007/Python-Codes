{
 "cells": [
  {
   "cell_type": "code",
   "execution_count": 7,
   "metadata": {},
   "outputs": [
    {
     "name": "stdout",
     "output_type": "stream",
     "text": [
      "enter two nos\n",
      "2\n",
      "3\n",
      "5\n"
     ]
    }
   ],
   "source": [
    "print(\"enter two nos\" )\n",
    "a = int(input())\n",
    "b = int(input())\n",
    "c = a+b\n",
    "print(c)"
   ]
  },
  {
   "cell_type": "markdown",
   "metadata": {},
   "source": [
    "def avg(n1=2, n2=1, n3=0)\n",
    "sum(n1+n2+n3)\n",
    "print(sum/3)\n",
    "\n",
    "avg(1,2,3)"
   ]
  },
  {
   "cell_type": "code",
   "execution_count": 16,
   "metadata": {},
   "outputs": [
    {
     "name": "stdout",
     "output_type": "stream",
     "text": [
      "8.333333333333334\n"
     ]
    }
   ],
   "source": [
    "def avg(n1=2, n2=1, n3=0):\n",
    "    sum = (n1+n2+n3)\n",
    "    print(sum/3)\n",
    "avg(n1=21,n3=3)"
   ]
  },
  {
   "cell_type": "code",
   "execution_count": 30,
   "metadata": {},
   "outputs": [
    {
     "name": "stdout",
     "output_type": "stream",
     "text": [
      "dogcat\n",
      "matmat\n",
      "CAT\n",
      "dog\n",
      "CAT\n",
      "t\n",
      "a\n",
      "Cat\n",
      "False\n",
      "3\n",
      "cult\n"
     ]
    }
   ],
   "source": [
    "s1 = \"dog\"\n",
    "s2 = \"cat\"\n",
    "s3 = \"mat\"\n",
    "\n",
    "print(s1+s2)\n",
    "print(s3*2)\n",
    "print(s2.swapcase())\n",
    "print(s1.lower())\n",
    "print(s2.upper())\n",
    "print(max(s2))\n",
    "s2[::-1]\n",
    "print(min(s3))\n",
    "print(s2.capitalize())\n",
    "print(s1.isdigit())\n",
    "print(len(s2))\n",
    "print(s2.replace('a','ul'))"
   ]
  },
  {
   "cell_type": "code",
   "execution_count": 32,
   "metadata": {},
   "outputs": [
    {
     "data": {
      "text/plain": [
       "True"
      ]
     },
     "execution_count": 32,
     "metadata": {},
     "output_type": "execute_result"
    }
   ],
   "source": [
    "s =\"cat\"\n",
    "'a' in s"
   ]
  },
  {
   "cell_type": "code",
   "execution_count": 33,
   "metadata": {},
   "outputs": [
    {
     "data": {
      "text/plain": [
       "False"
      ]
     },
     "execution_count": 33,
     "metadata": {},
     "output_type": "execute_result"
    }
   ],
   "source": [
    "s =\"cat\"\n",
    "'a' not in s"
   ]
  },
  {
   "cell_type": "code",
   "execution_count": 36,
   "metadata": {},
   "outputs": [
    {
     "name": "stdout",
     "output_type": "stream",
     "text": [
      "darshan"
     ]
    }
   ],
   "source": [
    "s = \"darshan\"\n",
    "for i in s:\n",
    "    print(i,end=\"\")"
   ]
  },
  {
   "cell_type": "code",
   "execution_count": 41,
   "metadata": {},
   "outputs": [
    {
     "name": "stdout",
     "output_type": "stream",
     "text": [
      "Yarshan\n"
     ]
    }
   ],
   "source": [
    "st = \"Darshan\"\n",
    "print('Y'+st[1:])"
   ]
  },
  {
   "cell_type": "code",
   "execution_count": 46,
   "metadata": {},
   "outputs": [
    {
     "name": "stdout",
     "output_type": "stream",
     "text": [
      "[99, 100, [44, 32], 21]\n"
     ]
    }
   ],
   "source": [
    "l=[1,2,[100,200,300],22.3,[99,100,[44,32],21],76]\n",
    "print(l[4])\n"
   ]
  },
  {
   "cell_type": "code",
   "execution_count": 51,
   "metadata": {},
   "outputs": [
    {
     "name": "stdout",
     "output_type": "stream",
     "text": [
      "[1, 3, 4]\n"
     ]
    }
   ],
   "source": [
    "l1=[1,2,3,4]\n",
    "l1.remove(2)\n",
    "print(l1)"
   ]
  },
  {
   "cell_type": "code",
   "execution_count": 56,
   "metadata": {},
   "outputs": [
    {
     "name": "stdout",
     "output_type": "stream",
     "text": [
      "[1, 2, 4]\n"
     ]
    }
   ],
   "source": [
    "l2=[1,2,3,4]\n",
    "l2.pop(2)\n",
    "print(l2)\n"
   ]
  },
  {
   "cell_type": "code",
   "execution_count": 67,
   "metadata": {},
   "outputs": [
    {
     "name": "stdout",
     "output_type": "stream",
     "text": [
      "[1, 2, 3, 4]\n",
      "[1, 2, 3, 4, 777]\n",
      "[777, 4, 3, 2, 1]\n",
      "[]\n"
     ]
    }
   ],
   "source": [
    "l2=[1,2,3,4]\n",
    "print(l2[:])\n",
    "l2.append(777)\n",
    "print(l2)\n",
    "l2.reverse()\n",
    "print(l2)\n",
    "l2.clear()\n",
    "print(l2)"
   ]
  },
  {
   "cell_type": "code",
   "execution_count": 73,
   "metadata": {},
   "outputs": [
    {
     "data": {
      "text/plain": [
       "'comp'"
      ]
     },
     "execution_count": 73,
     "metadata": {},
     "output_type": "execute_result"
    }
   ],
   "source": [
    "d = {1:\"comp\", 2:\"it\", 3:\"extc\"}\n",
    "d[1]"
   ]
  },
  {
   "cell_type": "code",
   "execution_count": 81,
   "metadata": {},
   "outputs": [
    {
     "name": "stdout",
     "output_type": "stream",
     "text": [
      "{2: 'it', 3: 'extc'}\n",
      "{}\n",
      "False\n",
      "dict_keys([])\n",
      "dict_values([])\n",
      "None\n"
     ]
    }
   ],
   "source": [
    "d = {1:\"comp\", 2:\"it\", 3:\"extc\"}\n",
    "d2 = {4:\"mech\"}\n",
    "del d[1]\n",
    "print(d)\n",
    "d.clear()\n",
    "print(d)\n",
    "print(3 in d)\n",
    "print(d.keys())\n",
    "print(d.values())\n",
    "d2=d.update()\n",
    "print(d2)"
   ]
  },
  {
   "cell_type": "code",
   "execution_count": 86,
   "metadata": {},
   "outputs": [
    {
     "name": "stdout",
     "output_type": "stream",
     "text": [
      "True\n",
      "{1: 'comp', 2: 'it', 3: 'extc'}\n",
      "3\n",
      "dict_keys([1, 2, 3])\n",
      "dict_values(['comp', 'it', 'extc'])\n"
     ]
    }
   ],
   "source": [
    "d = {1:\"comp\", 2:\"it\", 3:\"extc\"}\n",
    "print(3 in d)\n",
    "print(str(d))\n",
    "print(len(d))\n",
    "print(d.keys())\n",
    "print(d.values())"
   ]
  },
  {
   "cell_type": "code",
   "execution_count": 88,
   "metadata": {},
   "outputs": [
    {
     "name": "stdout",
     "output_type": "stream",
     "text": [
      "{1: 'comp', 2: 'it', 3: 'extc', 4: 'mech'}\n"
     ]
    }
   ],
   "source": [
    "d3 = {1:\"comp\", 2:\"it\", 3:\"extc\"}\n",
    "d4 = {4:\"mech\"}\n",
    "d3.update(d4)\n",
    "print(d3)"
   ]
  },
  {
   "cell_type": "code",
   "execution_count": 135,
   "metadata": {},
   "outputs": [
    {
     "name": "stdout",
     "output_type": "stream",
     "text": [
      "Enter the key size of dictionary:2\n"
     ]
    },
    {
     "data": {
      "text/plain": [
       "int"
      ]
     },
     "execution_count": 135,
     "metadata": {},
     "output_type": "execute_result"
    }
   ],
   "source": [
    "n = int(input(\"Enter the key size of dictionary:\" ))\n",
    "type(n)"
   ]
  },
  {
   "cell_type": "code",
   "execution_count": 152,
   "metadata": {},
   "outputs": [
    {
     "name": "stdin",
     "output_type": "stream",
     "text": [
      " 4\n"
     ]
    },
    {
     "name": "stdout",
     "output_type": "stream",
     "text": [
      "{1: 1, 2: 4, 3: 9, 4: 16}\n"
     ]
    }
   ],
   "source": [
    "n = int(input())\n",
    "d={}\n",
    "for i in range(1,n+1):\n",
    "    d.update({i:i*i})\n",
    "print(d)    "
   ]
  },
  {
   "cell_type": "code",
   "execution_count": 156,
   "metadata": {},
   "outputs": [
    {
     "name": "stdin",
     "output_type": "stream",
     "text": [
      " 1 2\n"
     ]
    },
    {
     "name": "stdout",
     "output_type": "stream",
     "text": [
      "[2]\n"
     ]
    }
   ],
   "source": [
    "list_1 =[]\n",
    "for i in range(1,51):\n",
    "    list_1.append(i)\n",
    "a,b = input().split()\n",
    "a = int(a)\n",
    "b = int(b)\n",
    "l=[]\n",
    "while a<b:\n",
    "    l.append(list_1[a])\n",
    "    a=a+1\n",
    "print(l)\n",
    "    "
   ]
  },
  {
   "cell_type": "code",
   "execution_count": null,
   "metadata": {},
   "outputs": [],
   "source": []
  },
  {
   "cell_type": "code",
   "execution_count": null,
   "metadata": {},
   "outputs": [],
   "source": []
  }
 ],
 "metadata": {
  "kernelspec": {
   "display_name": "Python 3",
   "language": "python",
   "name": "python3"
  },
  "language_info": {
   "codemirror_mode": {
    "name": "ipython",
    "version": 3
   },
   "file_extension": ".py",
   "mimetype": "text/x-python",
   "name": "python",
   "nbconvert_exporter": "python",
   "pygments_lexer": "ipython3",
   "version": "3.7.6"
  }
 },
 "nbformat": 4,
 "nbformat_minor": 4
}
